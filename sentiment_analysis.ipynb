{
 "cells": [
  {
   "cell_type": "code",
   "execution_count": 2,
   "metadata": {},
   "outputs": [],
   "source": [
    "import pandas as pd\n",
    "from sklearn.feature_extraction.text import TfidfVectorizer\n",
    "from sklearn.naive_bayes import MultinomialNB\n",
    "from sklearn.metrics import accuracy_score, classification_report, confusion_matrix\n",
    "from imblearn.over_sampling import SMOTE\n",
    "from collections import Counter\n",
    "import matplotlib.pyplot as plt\n",
    "import seaborn as sns\n",
    "import nltk\n",
    "from nltk.corpus import stopwords\n",
    "from nltk.tokenize import word_tokenize\n",
    "from nltk.stem import WordNetLemmatizer\n",
    "\n",
    "# Load the datasets\n",
    "train_data = pd.read_csv('drug_review_train.csv')\n",
    "test_data = pd.read_csv('drug_review_test.csv')\n",
    "val_data = pd.read_csv('drug_review_validation.csv')"
   ]
  },
  {
   "cell_type": "code",
   "execution_count": 3,
   "metadata": {},
   "outputs": [
    {
     "data": {
      "text/html": [
       "<div>\n",
       "<style scoped>\n",
       "    .dataframe tbody tr th:only-of-type {\n",
       "        vertical-align: middle;\n",
       "    }\n",
       "\n",
       "    .dataframe tbody tr th {\n",
       "        vertical-align: top;\n",
       "    }\n",
       "\n",
       "    .dataframe thead th {\n",
       "        text-align: right;\n",
       "    }\n",
       "</style>\n",
       "<table border=\"1\" class=\"dataframe\">\n",
       "  <thead>\n",
       "    <tr style=\"text-align: right;\">\n",
       "      <th></th>\n",
       "      <th>Unnamed: 0</th>\n",
       "      <th>patient_id</th>\n",
       "      <th>drugName</th>\n",
       "      <th>condition</th>\n",
       "      <th>review</th>\n",
       "      <th>rating</th>\n",
       "      <th>date</th>\n",
       "      <th>usefulCount</th>\n",
       "      <th>review_length</th>\n",
       "    </tr>\n",
       "  </thead>\n",
       "  <tbody>\n",
       "    <tr>\n",
       "      <th>0</th>\n",
       "      <td>0</td>\n",
       "      <td>89879</td>\n",
       "      <td>Cyclosporine</td>\n",
       "      <td>keratoconjunctivitis sicca</td>\n",
       "      <td>\"i have used restasis for about a year now and...</td>\n",
       "      <td>2.0</td>\n",
       "      <td>April 20, 2013</td>\n",
       "      <td>69</td>\n",
       "      <td>147</td>\n",
       "    </tr>\n",
       "    <tr>\n",
       "      <th>1</th>\n",
       "      <td>1</td>\n",
       "      <td>143975</td>\n",
       "      <td>Etonogestrel</td>\n",
       "      <td>birth control</td>\n",
       "      <td>\"my experience has been somewhat mixed. i have...</td>\n",
       "      <td>7.0</td>\n",
       "      <td>August 7, 2016</td>\n",
       "      <td>4</td>\n",
       "      <td>136</td>\n",
       "    </tr>\n",
       "  </tbody>\n",
       "</table>\n",
       "</div>"
      ],
      "text/plain": [
       "   Unnamed: 0  patient_id      drugName                   condition  \\\n",
       "0           0       89879  Cyclosporine  keratoconjunctivitis sicca   \n",
       "1           1      143975  Etonogestrel               birth control   \n",
       "\n",
       "                                              review  rating            date  \\\n",
       "0  \"i have used restasis for about a year now and...     2.0  April 20, 2013   \n",
       "1  \"my experience has been somewhat mixed. i have...     7.0  August 7, 2016   \n",
       "\n",
       "   usefulCount  review_length  \n",
       "0           69            147  \n",
       "1            4            136  "
      ]
     },
     "execution_count": 3,
     "metadata": {},
     "output_type": "execute_result"
    }
   ],
   "source": [
    "train_data.head(2)"
   ]
  },
  {
   "cell_type": "code",
   "execution_count": 4,
   "metadata": {},
   "outputs": [
    {
     "data": {
      "text/html": [
       "<div>\n",
       "<style scoped>\n",
       "    .dataframe tbody tr th:only-of-type {\n",
       "        vertical-align: middle;\n",
       "    }\n",
       "\n",
       "    .dataframe tbody tr th {\n",
       "        vertical-align: top;\n",
       "    }\n",
       "\n",
       "    .dataframe thead th {\n",
       "        text-align: right;\n",
       "    }\n",
       "</style>\n",
       "<table border=\"1\" class=\"dataframe\">\n",
       "  <thead>\n",
       "    <tr style=\"text-align: right;\">\n",
       "      <th></th>\n",
       "      <th>Unnamed: 0</th>\n",
       "      <th>patient_id</th>\n",
       "      <th>drugName</th>\n",
       "      <th>condition</th>\n",
       "      <th>review</th>\n",
       "      <th>rating</th>\n",
       "      <th>date</th>\n",
       "      <th>usefulCount</th>\n",
       "      <th>review_length</th>\n",
       "    </tr>\n",
       "  </thead>\n",
       "  <tbody>\n",
       "    <tr>\n",
       "      <th>0</th>\n",
       "      <td>0</td>\n",
       "      <td>163740</td>\n",
       "      <td>Mirtazapine</td>\n",
       "      <td>depression</td>\n",
       "      <td>\"i've tried a few antidepressants over the yea...</td>\n",
       "      <td>10.0</td>\n",
       "      <td>February 28, 2012</td>\n",
       "      <td>22</td>\n",
       "      <td>68</td>\n",
       "    </tr>\n",
       "    <tr>\n",
       "      <th>1</th>\n",
       "      <td>1</td>\n",
       "      <td>206473</td>\n",
       "      <td>Mesalamine</td>\n",
       "      <td>crohn's disease, maintenance</td>\n",
       "      <td>\"my son has crohn's disease and has done very ...</td>\n",
       "      <td>8.0</td>\n",
       "      <td>May 17, 2009</td>\n",
       "      <td>17</td>\n",
       "      <td>48</td>\n",
       "    </tr>\n",
       "  </tbody>\n",
       "</table>\n",
       "</div>"
      ],
      "text/plain": [
       "   Unnamed: 0  patient_id     drugName                     condition  \\\n",
       "0           0      163740  Mirtazapine                    depression   \n",
       "1           1      206473   Mesalamine  crohn's disease, maintenance   \n",
       "\n",
       "                                              review  rating  \\\n",
       "0  \"i've tried a few antidepressants over the yea...    10.0   \n",
       "1  \"my son has crohn's disease and has done very ...     8.0   \n",
       "\n",
       "                date  usefulCount  review_length  \n",
       "0  February 28, 2012           22             68  \n",
       "1       May 17, 2009           17             48  "
      ]
     },
     "execution_count": 4,
     "metadata": {},
     "output_type": "execute_result"
    }
   ],
   "source": [
    "test_data.head(2)"
   ]
  },
  {
   "cell_type": "code",
   "execution_count": 5,
   "metadata": {},
   "outputs": [
    {
     "data": {
      "text/html": [
       "<div>\n",
       "<style scoped>\n",
       "    .dataframe tbody tr th:only-of-type {\n",
       "        vertical-align: middle;\n",
       "    }\n",
       "\n",
       "    .dataframe tbody tr th {\n",
       "        vertical-align: top;\n",
       "    }\n",
       "\n",
       "    .dataframe thead th {\n",
       "        text-align: right;\n",
       "    }\n",
       "</style>\n",
       "<table border=\"1\" class=\"dataframe\">\n",
       "  <thead>\n",
       "    <tr style=\"text-align: right;\">\n",
       "      <th></th>\n",
       "      <th>Unnamed: 0</th>\n",
       "      <th>patient_id</th>\n",
       "      <th>drugName</th>\n",
       "      <th>condition</th>\n",
       "      <th>review</th>\n",
       "      <th>rating</th>\n",
       "      <th>date</th>\n",
       "      <th>usefulCount</th>\n",
       "      <th>review_length</th>\n",
       "    </tr>\n",
       "  </thead>\n",
       "  <tbody>\n",
       "    <tr>\n",
       "      <th>0</th>\n",
       "      <td>0</td>\n",
       "      <td>191114</td>\n",
       "      <td>Campral</td>\n",
       "      <td>alcohol dependence</td>\n",
       "      <td>\"sober a year 8-25-11. god, aa and campral hav...</td>\n",
       "      <td>10.0</td>\n",
       "      <td>September 3, 2011</td>\n",
       "      <td>33</td>\n",
       "      <td>41</td>\n",
       "    </tr>\n",
       "    <tr>\n",
       "      <th>1</th>\n",
       "      <td>1</td>\n",
       "      <td>142693</td>\n",
       "      <td>Levonorgestrel</td>\n",
       "      <td>birth control</td>\n",
       "      <td>\"i've been on birth control for a while now du...</td>\n",
       "      <td>4.0</td>\n",
       "      <td>August 9, 2017</td>\n",
       "      <td>3</td>\n",
       "      <td>140</td>\n",
       "    </tr>\n",
       "  </tbody>\n",
       "</table>\n",
       "</div>"
      ],
      "text/plain": [
       "   Unnamed: 0  patient_id        drugName           condition  \\\n",
       "0           0      191114         Campral  alcohol dependence   \n",
       "1           1      142693  Levonorgestrel       birth control   \n",
       "\n",
       "                                              review  rating  \\\n",
       "0  \"sober a year 8-25-11. god, aa and campral hav...    10.0   \n",
       "1  \"i've been on birth control for a while now du...     4.0   \n",
       "\n",
       "                date  usefulCount  review_length  \n",
       "0  September 3, 2011           33             41  \n",
       "1     August 9, 2017            3            140  "
      ]
     },
     "execution_count": 5,
     "metadata": {},
     "output_type": "execute_result"
    }
   ],
   "source": [
    "val_data.head(2)"
   ]
  },
  {
   "cell_type": "code",
   "execution_count": 6,
   "metadata": {},
   "outputs": [
    {
     "name": "stdout",
     "output_type": "stream",
     "text": [
      "(110811, 9)\n",
      "(46108, 9)\n",
      "(27703, 9)\n"
     ]
    }
   ],
   "source": [
    "print(train_data.shape)\n",
    "print(test_data.shape)\n",
    "print(val_data.shape)"
   ]
  },
  {
   "cell_type": "code",
   "execution_count": 7,
   "metadata": {},
   "outputs": [],
   "source": [
    "# Preprocess the text data\n",
    "lemmatizer = WordNetLemmatizer()\n",
    "stop_words = set(stopwords.words('english'))\n",
    "\n",
    "def preprocess_text(text):\n",
    "    text = text.lower()\n",
    "    tokens = word_tokenize(text)\n",
    "    tokens = [word for word in tokens if word.isalnum()]\n",
    "    tokens = [word for word in tokens if word not in stop_words]\n",
    "    lemmatized_tokens = [lemmatizer.lemmatize(word) for word in tokens]\n",
    "    return ' '.join(lemmatized_tokens)"
   ]
  },
  {
   "cell_type": "code",
   "execution_count": 8,
   "metadata": {},
   "outputs": [],
   "source": [
    "train_data['review'] = train_data['review'].apply(preprocess_text)\n",
    "test_data['review'] = test_data['review'].apply(preprocess_text)\n",
    "val_data['review'] = val_data['review'].apply(preprocess_text)"
   ]
  },
  {
   "cell_type": "code",
   "execution_count": 9,
   "metadata": {},
   "outputs": [
    {
     "data": {
      "text/html": [
       "<div>\n",
       "<style scoped>\n",
       "    .dataframe tbody tr th:only-of-type {\n",
       "        vertical-align: middle;\n",
       "    }\n",
       "\n",
       "    .dataframe tbody tr th {\n",
       "        vertical-align: top;\n",
       "    }\n",
       "\n",
       "    .dataframe thead th {\n",
       "        text-align: right;\n",
       "    }\n",
       "</style>\n",
       "<table border=\"1\" class=\"dataframe\">\n",
       "  <thead>\n",
       "    <tr style=\"text-align: right;\">\n",
       "      <th></th>\n",
       "      <th>Unnamed: 0</th>\n",
       "      <th>patient_id</th>\n",
       "      <th>drugName</th>\n",
       "      <th>condition</th>\n",
       "      <th>review</th>\n",
       "      <th>rating</th>\n",
       "      <th>date</th>\n",
       "      <th>usefulCount</th>\n",
       "      <th>review_length</th>\n",
       "    </tr>\n",
       "  </thead>\n",
       "  <tbody>\n",
       "    <tr>\n",
       "      <th>0</th>\n",
       "      <td>0</td>\n",
       "      <td>89879</td>\n",
       "      <td>Cyclosporine</td>\n",
       "      <td>keratoconjunctivitis sicca</td>\n",
       "      <td>used restasis year seen almost progress life r...</td>\n",
       "      <td>2.0</td>\n",
       "      <td>April 20, 2013</td>\n",
       "      <td>69</td>\n",
       "      <td>147</td>\n",
       "    </tr>\n",
       "    <tr>\n",
       "      <th>1</th>\n",
       "      <td>1</td>\n",
       "      <td>143975</td>\n",
       "      <td>Etonogestrel</td>\n",
       "      <td>birth control</td>\n",
       "      <td>experience somewhat mixed using implanon nearl...</td>\n",
       "      <td>7.0</td>\n",
       "      <td>August 7, 2016</td>\n",
       "      <td>4</td>\n",
       "      <td>136</td>\n",
       "    </tr>\n",
       "  </tbody>\n",
       "</table>\n",
       "</div>"
      ],
      "text/plain": [
       "   Unnamed: 0  patient_id      drugName                   condition  \\\n",
       "0           0       89879  Cyclosporine  keratoconjunctivitis sicca   \n",
       "1           1      143975  Etonogestrel               birth control   \n",
       "\n",
       "                                              review  rating            date  \\\n",
       "0  used restasis year seen almost progress life r...     2.0  April 20, 2013   \n",
       "1  experience somewhat mixed using implanon nearl...     7.0  August 7, 2016   \n",
       "\n",
       "   usefulCount  review_length  \n",
       "0           69            147  \n",
       "1            4            136  "
      ]
     },
     "execution_count": 9,
     "metadata": {},
     "output_type": "execute_result"
    }
   ],
   "source": [
    "train_data.head(2)"
   ]
  },
  {
   "cell_type": "code",
   "execution_count": 10,
   "metadata": {},
   "outputs": [
    {
     "data": {
      "text/plain": [
       "'used restasis year seen almost progress life red bothersome eye trying various eye drop doctor recommended restasis said typically take 3 6 month really kick never kick put drop burn eye first 30 40 minute talked doctor said normal go away time every year around spring time eye get terrible irritated year maybe even worse year even though using restasis year difference notice first couple week ready move'"
      ]
     },
     "execution_count": 10,
     "metadata": {},
     "output_type": "execute_result"
    }
   ],
   "source": [
    "train_data['review'][0]"
   ]
  },
  {
   "cell_type": "code",
   "execution_count": 11,
   "metadata": {},
   "outputs": [],
   "source": [
    "# Map ratings to three sentiment labels (negative, neutral, positive)\n",
    "def map_sentiment(rating):\n",
    "    if 1 <= rating <= 3:\n",
    "        return 'Negative'\n",
    "    elif 4 <= rating <= 7:\n",
    "        return 'Neutral'\n",
    "    else:\n",
    "        return 'Positive'"
   ]
  },
  {
   "cell_type": "code",
   "execution_count": 12,
   "metadata": {},
   "outputs": [],
   "source": [
    "train_data['sentiment'] = train_data['rating'].apply(map_sentiment)\n",
    "test_data['sentiment'] = test_data['rating'].apply(map_sentiment)\n",
    "val_data['sentiment'] = val_data['rating'].apply(map_sentiment)"
   ]
  },
  {
   "cell_type": "code",
   "execution_count": 13,
   "metadata": {},
   "outputs": [
    {
     "data": {
      "text/html": [
       "<div>\n",
       "<style scoped>\n",
       "    .dataframe tbody tr th:only-of-type {\n",
       "        vertical-align: middle;\n",
       "    }\n",
       "\n",
       "    .dataframe tbody tr th {\n",
       "        vertical-align: top;\n",
       "    }\n",
       "\n",
       "    .dataframe thead th {\n",
       "        text-align: right;\n",
       "    }\n",
       "</style>\n",
       "<table border=\"1\" class=\"dataframe\">\n",
       "  <thead>\n",
       "    <tr style=\"text-align: right;\">\n",
       "      <th></th>\n",
       "      <th>Unnamed: 0</th>\n",
       "      <th>patient_id</th>\n",
       "      <th>drugName</th>\n",
       "      <th>condition</th>\n",
       "      <th>review</th>\n",
       "      <th>rating</th>\n",
       "      <th>date</th>\n",
       "      <th>usefulCount</th>\n",
       "      <th>review_length</th>\n",
       "      <th>sentiment</th>\n",
       "    </tr>\n",
       "  </thead>\n",
       "  <tbody>\n",
       "    <tr>\n",
       "      <th>0</th>\n",
       "      <td>0</td>\n",
       "      <td>89879</td>\n",
       "      <td>Cyclosporine</td>\n",
       "      <td>keratoconjunctivitis sicca</td>\n",
       "      <td>used restasis year seen almost progress life r...</td>\n",
       "      <td>2.0</td>\n",
       "      <td>April 20, 2013</td>\n",
       "      <td>69</td>\n",
       "      <td>147</td>\n",
       "      <td>Negative</td>\n",
       "    </tr>\n",
       "    <tr>\n",
       "      <th>1</th>\n",
       "      <td>1</td>\n",
       "      <td>143975</td>\n",
       "      <td>Etonogestrel</td>\n",
       "      <td>birth control</td>\n",
       "      <td>experience somewhat mixed using implanon nearl...</td>\n",
       "      <td>7.0</td>\n",
       "      <td>August 7, 2016</td>\n",
       "      <td>4</td>\n",
       "      <td>136</td>\n",
       "      <td>Neutral</td>\n",
       "    </tr>\n",
       "  </tbody>\n",
       "</table>\n",
       "</div>"
      ],
      "text/plain": [
       "   Unnamed: 0  patient_id      drugName                   condition  \\\n",
       "0           0       89879  Cyclosporine  keratoconjunctivitis sicca   \n",
       "1           1      143975  Etonogestrel               birth control   \n",
       "\n",
       "                                              review  rating            date  \\\n",
       "0  used restasis year seen almost progress life r...     2.0  April 20, 2013   \n",
       "1  experience somewhat mixed using implanon nearl...     7.0  August 7, 2016   \n",
       "\n",
       "   usefulCount  review_length sentiment  \n",
       "0           69            147  Negative  \n",
       "1            4            136   Neutral  "
      ]
     },
     "execution_count": 13,
     "metadata": {},
     "output_type": "execute_result"
    }
   ],
   "source": [
    "train_data.head(2)"
   ]
  },
  {
   "cell_type": "code",
   "execution_count": 39,
   "metadata": {},
   "outputs": [
    {
     "data": {
      "image/png": "[encoded data removed]",
      "text/plain": [
       "<Figure size 1000x600 with 1 Axes>"
      ]
     },
     "metadata": {},
     "output_type": "display_data"
    }
   ],
   "source": [
    "# EDA: Distribution of Ratings\n",
    "plt.figure(figsize=(10, 6))\n",
    "# sns.countplot(x='rating', data=train_data, palette='viridis')\n",
    "# sns.countplot(x='rating', data=train_data, hue='some_group_variable')\n",
    "sns.countplot(x='rating', data=train_data)\n",
    "\n",
    "plt.title('Distribution of Ratings in Training Data')\n",
    "plt.xlabel('Rating')\n",
    "plt.ylabel('Count')\n",
    "plt.show()"
   ]
  },
  {
   "cell_type": "code",
   "execution_count": 40,
   "metadata": {},
   "outputs": [
    {
     "data": {
      "image/png": "[encoded data removed]",
      "text/plain": [
       "<Figure size 1000x600 with 1 Axes>"
      ]
     },
     "metadata": {},
     "output_type": "display_data"
    }
   ],
   "source": [
    "# EDA: Distribution of Sentiment\n",
    "plt.figure(figsize=(10, 6))\n",
    "sns.countplot(x='sentiment', data=train_data)\n",
    "plt.title('Distribution of Sentiment in Training Data')\n",
    "plt.xlabel('Sentiment')\n",
    "plt.ylabel('Count')\n",
    "plt.show()"
   ]
  },
  {
   "cell_type": "code",
   "execution_count": 16,
   "metadata": {},
   "outputs": [
    {
     "data": {
      "text/plain": [
       "sentiment\n",
       "Positive    66967\n",
       "Negative    23602\n",
       "Neutral     20242\n",
       "Name: count, dtype: int64"
      ]
     },
     "execution_count": 16,
     "metadata": {},
     "output_type": "execute_result"
    }
   ],
   "source": [
    "train_data['sentiment'].value_counts()"
   ]
  },
  {
   "cell_type": "code",
   "execution_count": 17,
   "metadata": {},
   "outputs": [
    {
     "data": {
      "image/png": "[encoded data removed]",
      "text/plain": [
       "<Figure size 800x800 with 1 Axes>"
      ]
     },
     "metadata": {},
     "output_type": "display_data"
    }
   ],
   "source": [
    "# EDA: Pie chart for sentiment distribution in training data\n",
    "plt.figure(figsize=(8, 8))\n",
    "train_sentiment_counts = train_data['sentiment'].value_counts()\n",
    "plt.pie(train_sentiment_counts, labels=train_sentiment_counts.index, autopct='%1.1f%%', startangle=140, colors=['red', 'yellow', 'green'])\n",
    "plt.title('Sentiment Distribution in Training Data')\n",
    "plt.show()"
   ]
  },
  {
   "cell_type": "code",
   "execution_count": 18,
   "metadata": {},
   "outputs": [
    {
     "data": {
      "text/plain": [
       "Index(['Positive', 'Negative', 'Neutral'], dtype='object', name='sentiment')"
      ]
     },
     "execution_count": 18,
     "metadata": {},
     "output_type": "execute_result"
    }
   ],
   "source": [
    "train_sentiment_counts.index"
   ]
  },
  {
   "cell_type": "code",
   "execution_count": 19,
   "metadata": {},
   "outputs": [
    {
     "data": {
      "image/png": "[encoded data removed]",
      "text/plain": [
       "<Figure size 800x800 with 1 Axes>"
      ]
     },
     "metadata": {},
     "output_type": "display_data"
    }
   ],
   "source": [
    "# EDA: Pie chart for sentiment distribution in testing data\n",
    "plt.figure(figsize=(8, 8))\n",
    "test_sentiment_counts = test_data['sentiment'].value_counts()\n",
    "plt.pie(test_sentiment_counts, labels=test_sentiment_counts.index, autopct='%1.1f%%', startangle=140, colors=['red', 'yellow', 'green'])\n",
    "plt.title('Sentiment Distribution in Testing Data')\n",
    "plt.show()"
   ]
  },
  {
   "cell_type": "code",
   "execution_count": 20,
   "metadata": {},
   "outputs": [
    {
     "data": {
      "image/png": "[encoded data removed]",
      "text/plain": [
       "<Figure size 800x800 with 1 Axes>"
      ]
     },
     "metadata": {},
     "output_type": "display_data"
    }
   ],
   "source": [
    "# EDA: Pie chart for sentiment distribution in validation data\n",
    "plt.figure(figsize=(8, 8))\n",
    "val_sentiment_counts = val_data['sentiment'].value_counts()\n",
    "plt.pie(val_sentiment_counts, labels=val_sentiment_counts.index, autopct='%1.1f%%', startangle=140, colors=['red', 'yellow', 'green'])\n",
    "plt.title('Sentiment Distribution in Validation Data')\n",
    "plt.show()"
   ]
  },
  {
   "cell_type": "code",
   "execution_count": 21,
   "metadata": {},
   "outputs": [],
   "source": [
    "# TF-IDF Vectorizer\n",
    "tfidf_vectorizer = TfidfVectorizer(ngram_range=(1, 2))\n",
    "X_train_tfidf = tfidf_vectorizer.fit_transform(train_data['review'])\n",
    "X_test_tfidf = tfidf_vectorizer.transform(test_data['review'])\n",
    "X_val_tfidf = tfidf_vectorizer.transform(val_data['review'])"
   ]
  },
  {
   "cell_type": "code",
   "execution_count": 23,
   "metadata": {},
   "outputs": [
    {
     "name": "stdout",
     "output_type": "stream",
     "text": [
      "Original class distribution: Counter({'Positive': 66967, 'Negative': 23602, 'Neutral': 20242})\n"
     ]
    }
   ],
   "source": [
    "# Print original class distribution\n",
    "print(\"Original class distribution:\", Counter(train_data['sentiment']))"
   ]
  },
  {
   "cell_type": "code",
   "execution_count": 24,
   "metadata": {},
   "outputs": [],
   "source": [
    "# Apply SMOTE to balance the training data\n",
    "smote = SMOTE(random_state=42)\n",
    "X_train_tfidf_resampled, y_train_resampled = smote.fit_resample(X_train_tfidf, train_data['sentiment'])"
   ]
  },
  {
   "cell_type": "code",
   "execution_count": 51,
   "metadata": {},
   "outputs": [
    {
     "name": "stdout",
     "output_type": "stream",
     "text": [
      "Resampled class distribution: Counter({'Negative': 66967, 'Neutral': 66967, 'Positive': 66967})\n"
     ]
    }
   ],
   "source": [
    "# Print resampled class distribution\n",
    "print(\"Resampled class distribution:\", Counter(y_train_resampled))"
   ]
  },
  {
   "cell_type": "code",
   "execution_count": 52,
   "metadata": {},
   "outputs": [],
   "source": [
    "import time"
   ]
  },
  {
   "cell_type": "code",
   "execution_count": 54,
   "metadata": {},
   "outputs": [
    {
     "name": "stdout",
     "output_type": "stream",
     "text": [
      "Naive Bayes Model Computational Time: 1.62 seconds\n"
     ]
    }
   ],
   "source": [
    "# Train the Naive Bayes model\n",
    "nb_model = MultinomialNB()\n",
    "\n",
    "# Make predictions on the test dataset\n",
    "start_time_nb = time.time()\n",
    "\n",
    "# Train the Naive Bayes model\n",
    "nb_model.fit(X_train_tfidf_resampled, y_train_resampled)\n",
    "\n",
    "# Make predictions on the test dataset\n",
    "y_test_pred = nb_model.predict(X_test_tfidf)\n",
    "\n",
    "end_time_nb = time.time()\n",
    "\n",
    "nb_time = end_time_nb - start_time_nb\n",
    "print(f\"Naive Bayes Model Computational Time: {nb_time:.2f} seconds\")\n",
    "\n",
    "# Make predictions on the validation dataset\n",
    "y_val_pred = nb_model.predict(X_val_tfidf)"
   ]
  },
  {
   "cell_type": "code",
   "execution_count": 44,
   "metadata": {},
   "outputs": [
    {
     "name": "stdout",
     "output_type": "stream",
     "text": [
      "Test Accuracy: 0.7730979439576646\n",
      "              precision    recall  f1-score   support\n",
      "\n",
      "    Negative       0.76      0.78      0.77      9993\n",
      "     Neutral       0.51      0.70      0.59      8444\n",
      "    Positive       0.90      0.79      0.84     27671\n",
      "\n",
      "    accuracy                           0.77     46108\n",
      "   macro avg       0.72      0.76      0.73     46108\n",
      "weighted avg       0.80      0.77      0.78     46108\n",
      "\n",
      "Confusion Matrix (Test):\n",
      "[[ 7795  1316   882]\n",
      " [ 1064  5912  1468]\n",
      " [ 1452  4280 21939]]\n"
     ]
    }
   ],
   "source": [
    "# Evaluate the model on the test dataset\n",
    "test_accuracy = accuracy_score(test_data['sentiment'], y_test_pred)\n",
    "print(f'Test Accuracy: {test_accuracy}')\n",
    "print(classification_report(test_data['sentiment'], y_test_pred))\n",
    "test_cm = confusion_matrix(test_data['sentiment'], y_test_pred, labels=['Negative', 'Neutral', 'Positive'])\n",
    "print(f'Confusion Matrix (Test):\\n{test_cm}')"
   ]
  },
  {
   "cell_type": "code",
   "execution_count": 45,
   "metadata": {},
   "outputs": [
    {
     "name": "stdout",
     "output_type": "stream",
     "text": [
      "Validation Accuracy: 0.7747536367902393\n",
      "              precision    recall  f1-score   support\n",
      "\n",
      "    Negative       0.76      0.78      0.77      5834\n",
      "     Neutral       0.52      0.71      0.60      5238\n",
      "    Positive       0.91      0.79      0.85     16631\n",
      "\n",
      "    accuracy                           0.77     27703\n",
      "   macro avg       0.73      0.76      0.74     27703\n",
      "weighted avg       0.80      0.77      0.78     27703\n",
      "\n",
      "Confusion Matrix (Validation):\n",
      "[[ 4575   762   497]\n",
      " [  657  3696   885]\n",
      " [  825  2614 13192]]\n"
     ]
    }
   ],
   "source": [
    "# Evaluate the model on the validation dataset\n",
    "val_accuracy = accuracy_score(val_data['sentiment'], y_val_pred)\n",
    "print(f'Validation Accuracy: {val_accuracy}')\n",
    "print(classification_report(val_data['sentiment'], y_val_pred))\n",
    "val_cm = confusion_matrix(val_data['sentiment'], y_val_pred, labels=['Negative', 'Neutral', 'Positive'])\n",
    "print(f'Confusion Matrix (Validation):\\n{val_cm}')"
   ]
  },
  {
   "cell_type": "code",
   "execution_count": 55,
   "metadata": {},
   "outputs": [
    {
     "name": "stdout",
     "output_type": "stream",
     "text": [
      "Random Forest Model Computational Time: 326.71 seconds\n",
      "Random Forest Test Accuracy: 0.8005985946039733\n",
      "              precision    recall  f1-score   support\n",
      "\n",
      "    Negative       0.77      0.67      0.72      9993\n",
      "     Neutral       0.79      0.53      0.64      8444\n",
      "    Positive       0.81      0.93      0.87     27671\n",
      "\n",
      "    accuracy                           0.80     46108\n",
      "   macro avg       0.79      0.71      0.74     46108\n",
      "weighted avg       0.80      0.80      0.79     46108\n",
      "\n",
      "Confusion Matrix (Test):\n",
      "[[ 6666   406  2921]\n",
      " [  838  4487  3119]\n",
      " [ 1133   777 25761]]\n",
      "Random Forest Validation Accuracy: 0.8000938526513374\n",
      "              precision    recall  f1-score   support\n",
      "\n",
      "    Negative       0.76      0.66      0.71      5834\n",
      "     Neutral       0.79      0.53      0.64      5238\n",
      "    Positive       0.81      0.93      0.87     16631\n",
      "\n",
      "    accuracy                           0.80     27703\n",
      "   macro avg       0.79      0.71      0.74     27703\n",
      "weighted avg       0.80      0.80      0.79     27703\n",
      "\n",
      "Confusion Matrix (Validation):\n",
      "[[ 3877   262  1695]\n",
      " [  525  2797  1916]\n",
      " [  674   466 15491]]\n"
     ]
    }
   ],
   "source": [
    "from sklearn.ensemble import RandomForestClassifier\n",
    "\n",
    "# Train the Random Forest model\n",
    "rf_model = RandomForestClassifier(n_estimators=10, random_state=42,n_jobs=-1)\n",
    "\n",
    "start_time_rf = time.time()\n",
    "rf_model.fit(X_train_tfidf_resampled, y_train_resampled)\n",
    "y_test_pred_rf = rf_model.predict(X_test_tfidf)\n",
    "rf_time = time.time() - start_time_rf\n",
    "print(f\"Random Forest Model Computational Time: {rf_time:.2f} seconds\")\n",
    "\n",
    "# Make predictions on the validation dataset\n",
    "y_val_pred_rf = rf_model.predict(X_val_tfidf)\n",
    "\n",
    "# Evaluate the model on the test dataset\n",
    "rf_test_accuracy = accuracy_score(test_data['sentiment'], y_test_pred_rf)\n",
    "print(f'Random Forest Test Accuracy: {rf_test_accuracy}')\n",
    "print(classification_report(test_data['sentiment'], y_test_pred_rf))\n",
    "rf_test_cm = confusion_matrix(test_data['sentiment'], y_test_pred_rf, labels=['Negative', 'Neutral', 'Positive'])\n",
    "print(f'Confusion Matrix (Test):\\n{rf_test_cm}')\n",
    "\n",
    "# Evaluate the model on the validation dataset\n",
    "rf_val_accuracy = accuracy_score(val_data['sentiment'], y_val_pred_rf)\n",
    "print(f'Random Forest Validation Accuracy: {rf_val_accuracy}')\n",
    "print(classification_report(val_data['sentiment'], y_val_pred_rf))\n",
    "rf_val_cm = confusion_matrix(val_data['sentiment'], y_val_pred_rf, labels=['Negative', 'Neutral', 'Positive'])\n",
    "print(f'Confusion Matrix (Validation):\\n{rf_val_cm}')\n"
   ]
  },
  {
   "cell_type": "code",
   "execution_count": 46,
   "metadata": {},
   "outputs": [
    {
     "name": "stdout",
     "output_type": "stream",
     "text": [
      "SGD Model Computational Time: 9.17 seconds\n",
      "SGD Test Accuracy: 0.7790405135768197\n",
      "              precision    recall  f1-score   support\n",
      "\n",
      "    Negative       0.71      0.77      0.74      9993\n",
      "     Neutral       0.56      0.55      0.56      8444\n",
      "    Positive       0.88      0.85      0.86     27671\n",
      "\n",
      "    accuracy                           0.78     46108\n",
      "   macro avg       0.71      0.73      0.72     46108\n",
      "weighted avg       0.78      0.78      0.78     46108\n",
      "\n",
      "Confusion Matrix (Test - SGD):\n",
      "[[ 7730  1170  1093]\n",
      " [ 1517  4678  2249]\n",
      " [ 1601  2558 23512]]\n",
      "SGD Validation Accuracy: 0.7787965202324658\n",
      "              precision    recall  f1-score   support\n",
      "\n",
      "    Negative       0.71      0.76      0.73      5834\n",
      "     Neutral       0.57      0.56      0.56      5238\n",
      "    Positive       0.88      0.85      0.86     16631\n",
      "\n",
      "    accuracy                           0.78     27703\n",
      "   macro avg       0.72      0.73      0.72     27703\n",
      "weighted avg       0.78      0.78      0.78     27703\n",
      "\n",
      "Confusion Matrix (Validation - SGD):\n",
      "[[ 4441   725   668]\n",
      " [  948  2951  1339]\n",
      " [  904  1544 14183]]\n"
     ]
    }
   ],
   "source": [
    "from sklearn.linear_model import SGDClassifier\n",
    "\n",
    "# Train the SGD model\n",
    "sgd_model = SGDClassifier(loss='modified_huber',random_state=42)\n",
    "\n",
    "start_time_sgd = time.time()\n",
    "sgd_model.fit(X_train_tfidf_resampled, y_train_resampled)\n",
    "y_test_pred_sgd = sgd_model.predict(X_test_tfidf)\n",
    "sgd_time = time.time() - start_time_sgd\n",
    "print(f\"SGD Model Computational Time: {sgd_time:.2f} seconds\")\n",
    "\n",
    "\n",
    "# Make predictions with the SGD model on the validation dataset\n",
    "y_val_pred_sgd = sgd_model.predict(X_val_tfidf)\n",
    "\n",
    "# Evaluate the SGD model on the test dataset\n",
    "sgd_test_accuracy = accuracy_score(test_data['sentiment'], y_test_pred_sgd)\n",
    "print(f'SGD Test Accuracy: {sgd_test_accuracy}')\n",
    "print(classification_report(test_data['sentiment'], y_test_pred_sgd))\n",
    "sgd_test_cm = confusion_matrix(test_data['sentiment'], y_test_pred_sgd, labels=['Negative', 'Neutral', 'Positive'])\n",
    "print(f'Confusion Matrix (Test - SGD):\\n{sgd_test_cm}')\n",
    "\n",
    "# Evaluate the SGD model on the validation dataset\n",
    "sgd_val_accuracy = accuracy_score(val_data['sentiment'], y_val_pred_sgd)\n",
    "print(f'SGD Validation Accuracy: {sgd_val_accuracy}')\n",
    "print(classification_report(val_data['sentiment'], y_val_pred_sgd))\n",
    "sgd_val_cm = confusion_matrix(val_data['sentiment'], y_val_pred_sgd, labels=['Negative', 'Neutral', 'Positive'])\n",
    "print(f'Confusion Matrix (Validation - SGD):\\n{sgd_val_cm}')"
   ]
  },
  {
   "cell_type": "code",
   "execution_count": null,
   "metadata": {},
   "outputs": [],
   "source": []
  }
 ],
 "metadata": {
  "kernelspec": {
   "display_name": "Python 3",
   "language": "python",
   "name": "python3"
  },
  "language_info": {
   "codemirror_mode": {
    "name": "ipython",
    "version": 3
   },
   "file_extension": ".py",
   "mimetype": "text/x-python",
   "name": "python",
   "nbconvert_exporter": "python",
   "pygments_lexer": "ipython3",
   "version": "3.12.0"
  }
 },
 "nbformat": 4,
 "nbformat_minor": 2
}
